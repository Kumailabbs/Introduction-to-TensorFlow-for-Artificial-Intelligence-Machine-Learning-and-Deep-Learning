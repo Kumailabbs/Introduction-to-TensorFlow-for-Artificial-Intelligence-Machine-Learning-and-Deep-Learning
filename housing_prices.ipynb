{
  "nbformat": 4,
  "nbformat_minor": 0,
  "metadata": {
    "colab": {
      "provenance": [],
      "authorship_tag": "ABX9TyNu5gobRBRNZBU97CEU1wLc",
      "include_colab_link": true
    },
    "kernelspec": {
      "name": "python3",
      "display_name": "Python 3"
    },
    "language_info": {
      "name": "python"
    }
  },
  "cells": [
    {
      "cell_type": "markdown",
      "metadata": {
        "id": "view-in-github",
        "colab_type": "text"
      },
      "source": [
        "<a href=\"https://colab.research.google.com/github/Kumailabbs/Introduction-to-TensorFlow-for-Artificial-Intelligence-Machine-Learning-and-Deep-Learning/blob/week1-housing-prices/housing_prices.ipynb\" target=\"_parent\"><img src=\"https://colab.research.google.com/assets/colab-badge.svg\" alt=\"Open In Colab\"/></a>"
      ]
    },
    {
      "cell_type": "code",
      "execution_count": null,
      "metadata": {
        "id": "nbXgxOvwr1rn"
      },
      "outputs": [],
      "source": [
        "# IMPORTANT: This will check your notebook's metadata for grading.\n",
        "# Please do not continue the lab unless the output of this cell tells you to proceed.\n",
        "!python add_metadata.py --filename C1W1_Assignment.ipynb"
      ]
    },
    {
      "cell_type": "code",
      "source": [
        "# grader-required-cell\n",
        "\n",
        "import tensorflow as tf\n",
        "import numpy as np\n",
        "from tensorflow import keras"
      ],
      "metadata": {
        "id": "tkEOWvt8r5Ge"
      },
      "execution_count": null,
      "outputs": []
    },
    {
      "cell_type": "code",
      "source": [
        "# grader-required-cell\n",
        "# GRADED FUNCTION: house_model\n",
        "def house_model(new_x):\n",
        "    ### START CODE HERE\n",
        "\n",
        "    # Define input and output tensors with the values for houses with 1 up to 6 bedrooms\n",
        "    # Hint: Remember to explictly set the dtype as float\n",
        "    xs = np.array([1.0, 2.0,3.0,4.0,5.0], dtype=float)\n",
        "    ys = np.array([1.0,1.5,2.0,2.5,3.0], dtype=float)\n",
        "\n",
        "    # Define your model (should be a model with 1 dense layer and 1 unit)\n",
        "    # Note: you can use `tf.keras` instead of `keras`\n",
        "    model =  tf.keras.Sequential([keras.layers.Dense(units=1, input_shape=[1])])\n",
        "\n",
        "    # Compile your model\n",
        "    # Set the optimizer to Stochastic Gradient Descent\n",
        "    # and use Mean Squared Error as the loss function\n",
        "    model.compile(optimizer='sgd', loss='mean_squared_error')\n",
        "\n",
        "    # Train your model for 1000 epochs by feeding the i/o tensors\n",
        "    model.fit(xs, ys, epochs=1000)\n",
        "\n",
        "    ### END CODE HERE\n",
        "    return model\n"
      ],
      "metadata": {
        "id": "2UYspDR5r7ld"
      },
      "execution_count": null,
      "outputs": []
    },
    {
      "cell_type": "code",
      "source": [
        "# grader-required-cell\n",
        "\n",
        "# Get your trained model\n",
        "model = house_model([7.0])"
      ],
      "metadata": {
        "id": "lpnpEsBGr96e"
      },
      "execution_count": null,
      "outputs": []
    },
    {
      "cell_type": "code",
      "source": [
        "# grader-required-cell\n",
        "\n",
        "# new_x = 7.0\n",
        "# prediction = model.predict([new_x])[0]\n",
        "# print(prediction)\n",
        "prediction = model.predict([7.0])[0]\n",
        "print(\"the price of house is:\", prediction)\n",
        "print(\"Type of 'model':\", type(model))\n"
      ],
      "metadata": {
        "id": "uSHNsH-Or__z"
      },
      "execution_count": null,
      "outputs": []
    }
  ]
}